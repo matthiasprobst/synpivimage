{
 "cells": [
  {
   "cell_type": "code",
   "execution_count": null,
   "id": "903dc1ca-56a2-4472-ab2f-2a15fc3f9ff8",
   "metadata": {},
   "outputs": [],
   "source": [
    "import numpy as np\n",
    "\n",
    "import synpivimage as spi \n",
    "print(f\"using synpivimage version {spi.__version__}\")\n",
    "\n",
    "from pivimage import PIVImage, PIVImagePair # for visualization\n",
    "from pprint import pprint\n",
    "from mpl_toolkits.axes_grid1 import make_axes_locatable\n",
    "import matplotlib.pyplot as plt\n",
    "\n",
    "spi.set_loglevel('INFO')"
   ]
  },
  {
   "cell_type": "code",
   "execution_count": null,
   "id": "03109a64-f488-41f6-9756-9a6d7d2c72fd",
   "metadata": {},
   "outputs": [],
   "source": [
    "laser = spi.Laser(shape_factor=10**3, width=10)\n",
    "\n",
    "cam = spi.Camera(\n",
    "    nx=128,\n",
    "    ny=128,\n",
    "    bit_depth=16,\n",
    "    qe=1,\n",
    "    sensitivity=1,\n",
    "    baseline_noise=0,\n",
    "    dark_noise=0,\n",
    "    shot_noise=False,\n",
    "    fill_ratio_x=1.0,\n",
    "    fill_ratio_y=1.0,\n",
    "    particle_image_diameter=2,\n",
    "    seed=10\n",
    ")"
   ]
  },
  {
   "cell_type": "code",
   "execution_count": null,
   "id": "82551d55-8d44-4311-be4c-572398a44ac5",
   "metadata": {},
   "outputs": [],
   "source": [
    "partA = spi.Particles.generate(\n",
    "    ppp=0.01,\n",
    "    dx_max=[100, 100],\n",
    "    dy_max=[-100, 100],\n",
    "    dz_max=[1, 1],\n",
    "    size=2.5,\n",
    "    camera=cam,\n",
    "    laser=laser)"
   ]
  },
  {
   "cell_type": "code",
   "execution_count": null,
   "id": "6992ae3c-53fe-4e42-ad16-131f312efb54",
   "metadata": {},
   "outputs": [],
   "source": [
    "# partA = generate_particles(0.1, dx_max=[-100, 100], dy_max=[-100, 100], dz_max=[1, 1], camera=cam, laser=laser)\n",
    "print(partA.active.sum()/cam.nx/cam.ny)"
   ]
  },
  {
   "cell_type": "code",
   "execution_count": null,
   "id": "59c62e86-9cb5-42c2-86f8-e5174d943cc1",
   "metadata": {},
   "outputs": [],
   "source": [
    "partB = partA.displace(dz=1)"
   ]
  },
  {
   "cell_type": "code",
   "execution_count": null,
   "id": "a4d7a762-b04e-474d-b62b-2cfd75b339f2",
   "metadata": {},
   "outputs": [],
   "source": [
    "imgA, partA = spi.take_image(laser=laser, camera=cam, particles=partA, particle_peak_count=1000)\n",
    "imgB, partB = spi.take_image(laser=laser, camera=cam, particles=partB, particle_peak_count=1000)"
   ]
  },
  {
   "cell_type": "code",
   "execution_count": null,
   "id": "c7fafff0-ebe1-444d-a8c1-514c81c2e35a",
   "metadata": {},
   "outputs": [],
   "source": [
    "z_activeA = partA.z[partA.active]\n",
    "IA = partA.max_image_photons[partA.active]"
   ]
  },
  {
   "cell_type": "code",
   "execution_count": null,
   "id": "fb1bfb8d-d5ff-42da-bd2f-f5bae2aebf74",
   "metadata": {},
   "outputs": [],
   "source": [
    "z_activeB = partB.z[partB.active]\n",
    "IB = partB.max_image_photons[partB.active]"
   ]
  },
  {
   "cell_type": "code",
   "execution_count": null,
   "id": "c9b25cc9-66cf-4e03-b8e2-5f81897c2d25",
   "metadata": {},
   "outputs": [],
   "source": [
    "iactiveA = np.argwhere(partA.active)"
   ]
  },
  {
   "cell_type": "code",
   "execution_count": null,
   "id": "e807a513-81ac-4b92-b60f-e7dbc14d3da9",
   "metadata": {},
   "outputs": [],
   "source": []
  },
  {
   "cell_type": "code",
   "execution_count": null,
   "id": "d744119c-e1d1-4e3b-9b98-f4f4df6f5584",
   "metadata": {},
   "outputs": [],
   "source": [
    "lost_particle_pairs = len(partB.active[iactiveA]) - partB.active[iactiveA].sum()"
   ]
  },
  {
   "cell_type": "code",
   "execution_count": null,
   "id": "dc3e66fc-43d1-4cf4-8c1f-76099b47f268",
   "metadata": {},
   "outputs": [],
   "source": [
    "lost_particle_pairs"
   ]
  },
  {
   "cell_type": "code",
   "execution_count": null,
   "id": "8d2f5eaa-4edd-4fab-8398-18efcc3eca5d",
   "metadata": {},
   "outputs": [],
   "source": [
    "plt.scatter(z_activeA, IA, color='g')\n",
    "plt.scatter(partB.z[partA.active], partB.max_image_photons[partA.active], color='r')\n",
    "plt.vlines(-5, 500, 1000)\n",
    "plt.vlines(5, 500, 1000)\n",
    "plt.xlabel('z')"
   ]
  },
  {
   "cell_type": "code",
   "execution_count": null,
   "id": "2e856f98-a412-498c-a415-13acb88d6e9b",
   "metadata": {},
   "outputs": [],
   "source": [
    "imgA, partA = spi.take_image(laser=laser, camera=cam, particles=partA, particle_peak_count=1000)\n",
    "imgB, partB = spi.take_image(laser=laser, camera=cam, particles=partA.regenerate(), particle_peak_count=1000)"
   ]
  },
  {
   "cell_type": "code",
   "execution_count": null,
   "id": "8452978f-dc2f-4e4f-b6ba-3c5080a375c8",
   "metadata": {},
   "outputs": [],
   "source": [
    "ppps = []\n",
    "for i in range(200):\n",
    "    p = partA.regenerate()\n",
    "    imgA, p = spi.take_image(laser=laser, camera=cam, particles=p, particle_peak_count=1000)\n",
    "    ppps.append(p.get_ppp(cam.size))"
   ]
  },
  {
   "cell_type": "code",
   "execution_count": null,
   "id": "7a5fa3ef-6981-4dec-8bdc-800baad41376",
   "metadata": {},
   "outputs": [],
   "source": [
    "_ = plt.hist(ppps, bins=50)"
   ]
  },
  {
   "cell_type": "code",
   "execution_count": null,
   "id": "b6502270-08dd-46f5-b625-e2618d8fa48b",
   "metadata": {},
   "outputs": [],
   "source": [
    "np.mean(ppps), np.std(ppps)"
   ]
  },
  {
   "cell_type": "code",
   "execution_count": null,
   "id": "d48ae4fc-eb22-426a-9277-da6961584bfd",
   "metadata": {},
   "outputs": [],
   "source": [
    "partB.get_ppp(cam.size)"
   ]
  },
  {
   "cell_type": "code",
   "execution_count": null,
   "id": "0e8a47fa-7e75-4da7-91b2-c91e9ecb3860",
   "metadata": {},
   "outputs": [],
   "source": [
    "fig, axs = plt.subplots(1, 2)\n",
    "axs[0].imshow(imgA, cmap=\"gray\")\n",
    "axs[1].imshow(imgB, cmap=\"gray\")"
   ]
  },
  {
   "cell_type": "code",
   "execution_count": null,
   "id": "149e2b90-9695-49b2-84eb-26240ad30237",
   "metadata": {},
   "outputs": [],
   "source": [
    "fig, axs = plt.subplots(1, 3)\n",
    "mask = partA.active\n",
    "axs[0].scatter(partA.z[mask], partA.max_image_photons[mask], color='g', marker='.')\n",
    "axs[0].set_xlabel('z')\n",
    "axs[1].scatter(partA.y[mask], partA.max_image_photons[mask], color='g', marker='.')\n",
    "axs[1].set_xlabel('y')\n",
    "axs[2].scatter(partA.x[mask], partA.max_image_photons[mask], color='g', marker='.')\n",
    "axs[2].set_xlabel('x')\n",
    "axs[0].scatter(partA.z[~mask], partA.max_image_photons[~mask], color='k', marker='.')\n",
    "axs[1].scatter(partA.y[~mask], partA.max_image_photons[~mask], color='k', marker='.')\n",
    "axs[2].scatter(partA.x[~mask], partA.max_image_photons[~mask], color='k', marker='.')\n",
    "plt.show()"
   ]
  },
  {
   "cell_type": "code",
   "execution_count": null,
   "id": "d39d1c18-42d8-43c3-96a1-beeea011d144",
   "metadata": {},
   "outputs": [],
   "source": [
    "plt.scatter(partA.x[mask], partA.y[mask], color='g')\n",
    "plt.scatter(partA.x[~mask], partA.y[~mask], color='k')"
   ]
  },
  {
   "cell_type": "code",
   "execution_count": null,
   "id": "af107fcc-d8d3-41c5-b176-431896b0b1d3",
   "metadata": {},
   "outputs": [],
   "source": [
    "laser = spi.Laser(shape_factor=10**3, width=10)\n",
    "\n",
    "cam = spi.Camera(\n",
    "    nx=128,\n",
    "    ny=128,\n",
    "    bit_depth=16,\n",
    "    qe=1,\n",
    "    sensitivity=1,\n",
    "    baseline_noise=0,\n",
    "    dark_noise=0,\n",
    "    shot_noise=False,\n",
    "    fill_ratio_x=1.0,\n",
    "    fill_ratio_y=1.0,\n",
    "    particle_image_diameter=2,\n",
    "    seed=10\n",
    ")\n",
    "\n",
    "ppp = 0.1\n",
    "x_margin = 10, 0\n",
    "y_margin = 10, 0\n",
    "z_margin = 2, 0\n",
    "\n",
    "FOVx = cam.nx + x_margin[0] + x_margin[1]\n",
    "FOVy = cam.ny + y_margin[0] + y_margin[1]\n",
    "FOVz = laser.width + z_margin[0] + z_margin[1]\n",
    "\n",
    "print(FOVx)\n",
    "print(FOVy)\n",
    "print(FOVz)\n",
    "n_particles = int(ppp*FOVx*FOVy*FOVz)\n",
    "print(n_particles)\n",
    "N =  int(n_particles/2/2/2)\n",
    "print(N)\n",
    "px = np.random.uniform(-x_margin[0], cam.nx+x_margin[1], N)\n",
    "py = np.random.uniform(-y_margin[0], cam.ny+y_margin[1], N)\n",
    "pz = np.random.uniform(-laser.width/2-z_margin[0], laser.width/2+z_margin[1], N)\n",
    "\n",
    "particles = spi.Particles(\n",
    "    x=px,\n",
    "    y=py,\n",
    "    z=np.zeros_like(px),\n",
    "    size=np.ones_like(px)*2\n",
    ")"
   ]
  },
  {
   "cell_type": "code",
   "execution_count": null,
   "id": "3e168d8e-df4e-4ea7-b854-e052f067f0e4",
   "metadata": {},
   "outputs": [],
   "source": [
    "imgA, partA = spi.take_image(particles=particles,\n",
    "                             camera=cam,\n",
    "                             laser=laser,\n",
    "                             particle_peak_count=1000)"
   ]
  },
  {
   "cell_type": "code",
   "execution_count": null,
   "id": "53fd72e3-6c79-4976-9e2e-2052f10071d2",
   "metadata": {},
   "outputs": [],
   "source": [
    "partA.in_fov.sum()/cam.nx/cam.ny"
   ]
  },
  {
   "cell_type": "code",
   "execution_count": null,
   "id": "487ccafd-9719-47a2-b61a-37c466d3677b",
   "metadata": {},
   "outputs": [],
   "source": [
    "partB = partA.displace(dx=5, dy=10, dz=0.1)"
   ]
  },
  {
   "cell_type": "code",
   "execution_count": null,
   "id": "a67fca8a-94b5-49b2-a5c3-9c10f8a20f60",
   "metadata": {},
   "outputs": [],
   "source": [
    "imgB, partB = spi.take_image(\n",
    "    particles=partB,\n",
    "    camera=cam, laser=laser,\n",
    "    particle_peak_count=1000)"
   ]
  },
  {
   "cell_type": "code",
   "execution_count": null,
   "id": "f6f9de6d-dace-45ba-af14-42c5cf8b0707",
   "metadata": {},
   "outputs": [],
   "source": [
    "imgpair = PIVImagePair(A=PIVImage.from_array(imgA), B=PIVImage.from_array(imgB))\n",
    "imgpair.plot()"
   ]
  },
  {
   "cell_type": "code",
   "execution_count": null,
   "id": "90d38425-d131-4563-b3e5-ccd09e8fe40c",
   "metadata": {},
   "outputs": [],
   "source": [
    "plt.scatter(partA.x[partA.in_fov], partA.y[partA.in_fov], color='g')\n",
    "plt.scatter(partA.x[~partA.in_fov], partA.y[~partA.in_fov], color='k')"
   ]
  },
  {
   "cell_type": "code",
   "execution_count": null,
   "id": "016e14d4-3108-4c16-9980-7b7c17eb3c40",
   "metadata": {},
   "outputs": [],
   "source": [
    "fig, axs = plt.subplots(1, 3)\n",
    "axs[0].scatter(partA.z[partA.in_fov], partA.max_image_photons[partA.in_fov], color='g', marker='.')\n",
    "axs[1].scatter(partA.y[partA.in_fov], partA.max_image_photons[partA.in_fov], color='g', marker='.')\n",
    "axs[2].scatter(partA.x[partA.in_fov], partA.max_image_photons[partA.in_fov], color='g', marker='.')\n",
    "axs[0].scatter(partA.z[~partA.in_fov], partA.max_image_photons[~partA.in_fov], color='k', marker='.')\n",
    "axs[1].scatter(partA.y[~partA.in_fov], partA.max_image_photons[~partA.in_fov], color='k', marker='.')\n",
    "axs[2].scatter(partA.x[~partA.in_fov], partA.max_image_photons[~partA.in_fov], color='k', marker='.')\n",
    "plt.show()"
   ]
  },
  {
   "cell_type": "code",
   "execution_count": null,
   "id": "91d64d60-26b0-4e15-a7c2-2160cf76bbef",
   "metadata": {},
   "outputs": [],
   "source": [
    "wdawd"
   ]
  },
  {
   "cell_type": "code",
   "execution_count": null,
   "id": "16917357-df3d-47a1-a54a-e558815f5eb5",
   "metadata": {},
   "outputs": [],
   "source": [
    "from synpivimage import velocityfield\n",
    "\n",
    "out_of_plane_fraction = 0.5\n",
    "cfield = velocityfield.ConstantField(dx=0.3, dy=1.6, dz=out_of_plane_fraction*cfg.laser_width)\n",
    "displaced_particle_data = cfield.displace(cfg=cfg, part_info=partA)"
   ]
  },
  {
   "cell_type": "code",
   "execution_count": null,
   "id": "3cdcd137-8fa8-4d48-8be4-55c18a1041da",
   "metadata": {},
   "outputs": [],
   "source": [
    "imgB, _, partB = spi.generate_image(\n",
    "    cfg,\n",
    "    particle_data=displaced_particle_data\n",
    ")"
   ]
  },
  {
   "cell_type": "code",
   "execution_count": null,
   "id": "fd636911-3baa-4c19-a0d5-bd201e287822",
   "metadata": {},
   "outputs": [],
   "source": [
    "# partB.size"
   ]
  },
  {
   "cell_type": "code",
   "execution_count": null,
   "id": "1ba6fae5-13d5-454b-ac70-f2b9c8d27086",
   "metadata": {},
   "outputs": [],
   "source": [
    "fig, axs = plt.subplots(1, 2)\n",
    "plot_img(imgA, axs[0], vmax=2**cfg.bit_depth)\n",
    "plot_img(imgB, axs[1], vmax=2**cfg.bit_depth)\n",
    "plt.tight_layout()\n",
    "plt.show()"
   ]
  },
  {
   "cell_type": "markdown",
   "id": "8e32e9ca-3972-478a-85c6-484297bb104f",
   "metadata": {},
   "source": [
    "# Out of plane effect - zoom to an interrogation window\n",
    "\n",
    "Let's investigate a few particles, e.g. 6, inside an IA:"
   ]
  },
  {
   "cell_type": "code",
   "execution_count": null,
   "id": "0117bb0d-f78b-49e3-98fd-4bd62a99335e",
   "metadata": {},
   "outputs": [],
   "source": [
    "cfg.particle_number = 6\n",
    "cfg.nx = 16\n",
    "cfg.ny = 16\n",
    "cfg.particle_size_mean = 2.5\n",
    "cfg.particle_size_std = 0\n",
    "cfg.laser_width = 1\n",
    "cfg.particle_density()"
   ]
  },
  {
   "cell_type": "code",
   "execution_count": null,
   "id": "6c172263-0a6a-4461-b604-58e5ff5e287d",
   "metadata": {
    "scrolled": true
   },
   "outputs": [],
   "source": [
    "xtrue = 0.6\n",
    "ytrue = 0.3\n",
    "\n",
    "imgsA = []\n",
    "imgsB = []\n",
    "\n",
    "out_of_plane_fraction = 0.0\n",
    "\n",
    "for _ in range(100):\n",
    "    imgA, _, partA = spi.generate_image(\n",
    "        cfg\n",
    "    )\n",
    "\n",
    "    cfield = velocityfield.ConstantField(dx=0.3, dy=1.6, dz=out_of_plane_fraction*cfg.laser_width)\n",
    "    displaced_particle_data = cfield.displace(cfg=cfg, part_info=partA)\n",
    "    \n",
    "    imgB, _, partB = spi.generate_image(\n",
    "        cfg,\n",
    "        particle_data=displaced_particle_data\n",
    "    )\n",
    "    imgsA.append(imgA)\n",
    "    imgsB.append(imgB)\n",
    "\n",
    "import numpy as np\n",
    "\n",
    "imgsA = np.stack(imgsA, 0)\n",
    "imgsB = np.stack(imgsB, 0)"
   ]
  },
  {
   "cell_type": "code",
   "execution_count": null,
   "id": "bf7de821-4fb4-410c-818e-ae6c19df4f18",
   "metadata": {},
   "outputs": [],
   "source": [
    "fig, axs = plt.subplots(1, 2)\n",
    "plot_img(imgsA[3, ...], axs[0], vmax=2**cfg.bit_depth)\n",
    "plot_img(imgsB[3, ...], axs[1], vmax=2**cfg.bit_depth)\n",
    "plt.tight_layout()\n",
    "plt.show()"
   ]
  },
  {
   "cell_type": "code",
   "execution_count": null,
   "id": "87b371bc-feb1-4885-b7b0-3b4794f82361",
   "metadata": {},
   "outputs": [],
   "source": [
    "from scipy.fft import rfft2, irfft2, fftshift\n",
    "import numpy as np"
   ]
  },
  {
   "cell_type": "code",
   "execution_count": null,
   "id": "0d0df9d0-7989-493a-a629-a09be310c98f",
   "metadata": {},
   "outputs": [],
   "source": [
    "def get_corr_plane(imgA, imgB):\n",
    "    f2a = np.conj(rfft2(imgA))\n",
    "    f2b = rfft2(imgB)\n",
    "    corr = fftshift(irfft2(f2a * f2b).real, axes=(-2, -1))\n",
    "    return corr\n",
    "\n",
    "def get_integer_peak(corr):\n",
    "    ind = corr.ravel().argmax(-1)\n",
    "    peaks = np.array(np.unravel_index(ind, corr.shape[-2:]))\n",
    "\n",
    "    peaks = np.vstack((peaks[0], peaks[1])).T\n",
    "    index_list = [(i, v[0], v[1]) for i, v in enumerate(peaks)]\n",
    "    peaks_max = np.nanmax(corr, axis = (-2, -1))\n",
    "\n",
    "    # np.array(index_list), np.array(peaks_max)\n",
    "    iy, ix = index_list[0][2], index_list[0][1]\n",
    "    return iy, ix\n",
    "\n",
    "def get_sub_peak_position(_corr):\n",
    "    eps =1e-7\n",
    "    corr = _corr + eps\n",
    "    subp_peak_position = (np.nan, np.nan)\n",
    "    peak1_i = peak1_indexndex[1]\n",
    "    peak1_j = peak1_indexndex[2]\n",
    "\n",
    "    c = corr[peak1_i, peak1_j]\n",
    "    cl = corr[peak1_i - 1, peak1_j]\n",
    "    cr = corr[peak1_i + 1, peak1_j]\n",
    "    cd = corr[peak1_i, peak1_j - 1]\n",
    "    cu = corr[peak1_i, peak1_j + 1]\n",
    "\n",
    "    nom1 = np.log(cl) - np.log(cr)\n",
    "    den1 = 2 * np.log(cl) - 4 * np.log(c) + 2 * np.log(cr)\n",
    "    nom2 = np.log(cd) - np.log(cu)\n",
    "    den2 = 2 * np.log(cd) - 4 * np.log(c) + 2 * np.log(cu)\n",
    "    \n",
    "    subp_peak_position = (\n",
    "        peak1_i + np.divide(nom1, den1, out=np.zeros(1),\n",
    "                            where=(den1 != 0.0))[0],\n",
    "        peak1_j + np.divide(nom2, den2, out=np.zeros(1),\n",
    "                            where=(den2 != 0.0))[0],\n",
    "    )\n",
    "    return subp_peak_position"
   ]
  },
  {
   "cell_type": "code",
   "execution_count": null,
   "id": "646b7c62-f7cd-4672-933a-64f8186f3e32",
   "metadata": {},
   "outputs": [],
   "source": [
    "corr = get_corr_plane(imgsA[0], imgsB[0])\n",
    "iyINT, ixINT = get_integer_peak(corr)"
   ]
  },
  {
   "cell_type": "code",
   "execution_count": null,
   "id": "edbfa7f5-9978-4cc6-8d34-a0d55c307b61",
   "metadata": {},
   "outputs": [],
   "source": [
    "plt.imshow(corr, cmap='gray')\n",
    "plt.scatter(iyINT, ixINT, marker='+', label='max in value')\n",
    "plt.legend()"
   ]
  },
  {
   "cell_type": "markdown",
   "id": "c87ce81b-55ea-4eef-8d27-020d73f6a3c9",
   "metadata": {},
   "source": [
    "Determination of subpixel peak location (gaussian)"
   ]
  },
  {
   "cell_type": "code",
   "execution_count": null,
   "id": "487ab4bc-7f46-4d23-8936-2ba56337edeb",
   "metadata": {},
   "outputs": [],
   "source": [
    "def gauss(x, x0, k, C):\n",
    "    return C*np.exp((-(x0-x)**2)/k)"
   ]
  },
  {
   "cell_type": "code",
   "execution_count": null,
   "id": "af71244e-23fb-446b-9e1f-b6a5fa1d8282",
   "metadata": {},
   "outputs": [],
   "source": [
    "from scipy.optimize import curve_fit"
   ]
  },
  {
   "cell_type": "code",
   "execution_count": null,
   "id": "19938b40-e3e8-4da3-9a72-c898ead64507",
   "metadata": {},
   "outputs": [],
   "source": [
    "def plot_subpeak(R3, peak_loc, ax=None, color=None):\n",
    "    \"\"\"R3 = R[-1], R[0], R[1]\"\"\"\n",
    "    if ax is None:\n",
    "        ax = plt.gca()\n",
    "    popt, pcov = curve_fit(gauss, [-1, 0, 1], R3)\n",
    "    ax.scatter([-1, 0, 1], R3, color=color)\n",
    "    _x = np.linspace(-2, 2, 101)\n",
    "    g = gauss(_x, *popt)\n",
    "    ax.plot(_x, g, color=color)\n",
    "    ax.scatter(peak_loc, g.max(), marker='x', color=color)\n",
    "    return ax"
   ]
  },
  {
   "cell_type": "code",
   "execution_count": null,
   "id": "80d85c0d-1bfb-4b49-8c85-a46c918c430f",
   "metadata": {},
   "outputs": [],
   "source": [
    "fig, axs = plt.subplots(1, 2)\n",
    "plot_img(corr, axs[0])\n",
    "# axs[0].scatter(peak1_i, peak1_j,\n",
    "#                marker='+', label='max in value')\n",
    "# axs[1].plot([-1,0,1], [cl, c, cr], 'b--')\n",
    "# axs[1].plot([-1,0,1], [cd, c, cu], 'r--')\n",
    "axs[0].scatter([peak1_j-1, peak1_j, peak1_j+1],\n",
    "               [peak1_i, peak1_i, peak1_i],\n",
    "               color='r', marker='.')\n",
    "axs[0].scatter([peak1_j, peak1_j, peak1_j],\n",
    "               [peak1_i-1, peak1_i, peak1_i+1],\n",
    "              color='b', marker='.')\n",
    "axs[0].scatter(subp_peak_position[1], subp_peak_position[0],\n",
    "              color='g', marker='+')\n",
    "\n",
    "c = corr[peak1_i, peak1_j]\n",
    "cl = corr[peak1_i - 1, peak1_j]\n",
    "cr = corr[peak1_i + 1, peak1_j]\n",
    "cd = corr[peak1_i, peak1_j - 1]\n",
    "cu = corr[peak1_i, peak1_j + 1]\n",
    "\n",
    "ipeak, jpeak = get_sub_peak_position(corr)\n",
    "\n",
    "plot_subpeak([cl, c, cr], peak_loc=ipeak-cfg.nx/2, ax=axs[1], color='r')\n",
    "plot_subpeak([cd, c, cu], peak_loc=jpeak-cfg.ny/2, ax=axs[1], color='b')\n",
    "asp = np.diff(axs[1].get_xlim())[0] / np.diff(axs[1].get_ylim())[0]\n",
    "axs[1].set_aspect(asp)\n",
    "\n",
    "plt.tight_layout()\n",
    "\n",
    "dy = subp_peak_position[0] - cfg.ny/2\n",
    "dx = subp_peak_position[1] - cfg.nx/2\n",
    "print(f'displacement: dy={dy:.2f}, nx={dx:.2f}')\n",
    "dx_err = np.abs(dx-xtrue)\n",
    "dy_err = np.abs(dy-ytrue)\n",
    "print(f'x err: {dx_err:.3f}, y err: {dy_err:.3f}')\n",
    "\n",
    "n_imgs = imgsA.shape[0]\n",
    "\n",
    "dxs, dys = [], []\n",
    "for i in range(n_imgs):\n",
    "    _corr = get_corr_plane(imgsA[i, ...], imgsB[i, ...])\n",
    "    subp_peak_position = get_sub_peak_position(_corr)\n",
    "    dys.append(subp_peak_position[0] - cfg.ny/2)\n",
    "    dxs.append(subp_peak_position[1] - cfg.nx/2)\n",
    "\n",
    "\n",
    "binwidth = 0.05\n",
    "plt.figure()\n",
    "bins = np.arange(np.nanmin(dxs), np.nanmax(dxs) + binwidth, binwidth)\n",
    "plt.hist(dxs, density=True, bins=bins)\n",
    "\n",
    "bins = np.arange(np.nanmin(dys), np.nanmax(dys) + binwidth, binwidth)\n",
    "plt.hist(dys, density=True, bins=bins)\n",
    "plt.vlines(xtrue, 0, 10)\n",
    "plt.vlines(ytrue, 0, 10)\n",
    "plt.xlim(0, 1)\n",
    "plt.show()"
   ]
  },
  {
   "cell_type": "code",
   "execution_count": null,
   "id": "b49fd9ea-7174-4c0a-a0f6-b016ae6cfe0b",
   "metadata": {},
   "outputs": [],
   "source": []
  },
  {
   "cell_type": "code",
   "execution_count": null,
   "id": "c4b79036-cd38-463e-ab19-aa5fa7ac4781",
   "metadata": {},
   "outputs": [],
   "source": []
  },
  {
   "cell_type": "code",
   "execution_count": null,
   "id": "a1112ab9-3cf5-4b1e-be43-9bda077ecc15",
   "metadata": {},
   "outputs": [],
   "source": []
  }
 ],
 "metadata": {
  "kernelspec": {
   "display_name": "Python 3 (ipykernel)",
   "language": "python",
   "name": "python3"
  },
  "language_info": {
   "codemirror_mode": {
    "name": "ipython",
    "version": 3
   },
   "file_extension": ".py",
   "mimetype": "text/x-python",
   "name": "python",
   "nbconvert_exporter": "python",
   "pygments_lexer": "ipython3",
   "version": "3.12.0"
  }
 },
 "nbformat": 4,
 "nbformat_minor": 5
}
